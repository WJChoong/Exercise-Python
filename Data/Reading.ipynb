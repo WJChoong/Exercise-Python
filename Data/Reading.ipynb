{
 "metadata": {
  "language_info": {
   "codemirror_mode": {
    "name": "ipython",
    "version": 3
   },
   "file_extension": ".py",
   "mimetype": "text/x-python",
   "name": "python",
   "nbconvert_exporter": "python",
   "pygments_lexer": "ipython3",
   "version": "3.9.0-final"
  },
  "orig_nbformat": 2,
  "kernelspec": {
   "name": "python390jvsc74a57bd02647ea34e536f865ab67ff9ddee7fd78773d956cec0cab53c79b32cd10da5d83",
   "display_name": "Python 3.9.0 64-bit"
  },
  "metadata": {
   "interpreter": {
    "hash": "2647ea34e536f865ab67ff9ddee7fd78773d956cec0cab53c79b32cd10da5d83"
   }
  }
 },
 "nbformat": 4,
 "nbformat_minor": 2,
 "cells": [
  {
   "source": [
    "# Normal examples\n",
    "import pandas as pd\n",
    "\n",
    "file = pd.read_csv('D:/Code/Exercise-Python/Data/Test.csv',\n",
    "                    na_values = \":\",\n",
    "                    usecols = [\"Name\", \"Value\"])\n",
    "file"
   ],
   "cell_type": "markdown",
   "metadata": {}
  },
  {
   "source": [
    "# Normal examples\n",
    "import pandas as pd\n",
    "\n",
    "file = pd.read_csv('D:/Code/Exercise-Python/Data/Test.csv',\n",
    "                    na_values = \":\",\n",
    "                    usecols = [\"Name\", \"Value\", \"Year\"])\n",
    "file"
   ],
   "cell_type": "markdown",
   "metadata": {}
  },
  {
   "source": [
    "# Using .head()\n",
    "import pandas as pd\n",
    "\n",
    "file = pd.read_csv('D:/Code/Exercise-Python/Data/Test.csv',\n",
    "                    na_values = \":\",\n",
    "                    usecols = [\"Name\", \"Value\", \"Year\"])\n",
    "file.head()\n"
   ],
   "cell_type": "markdown",
   "metadata": {}
  },
  {
   "source": [
    "# Using .tail()\n",
    "import pandas as pd\n",
    "\n",
    "file = pd.read_csv('D:/Code/Exercise-Python/Data/Test.csv',\n",
    "                    na_values = \":\",\n",
    "                    usecols = [\"Name\", \"Value\", \"Year\"])\n",
    "file.tail()"
   ],
   "cell_type": "markdown",
   "metadata": {}
  },
  {
   "source": [
    "# Using .describe()\n",
    "import pandas as pd\n",
    "\n",
    "file = pd.read_csv('D:/Code/Exercise-Python/Data/Test.csv',\n",
    "                    na_values = \":\",\n",
    "                    usecols = [\"Name\", \"Value\", \"Year\"])\n",
    "file.describe()"
   ],
   "cell_type": "markdown",
   "metadata": {}
  },
  {
   "source": [
    "# Select certain column\n",
    "import pandas as pd\n",
    "\n",
    "file = pd.read_csv('D:/Code/Exercise-Python/Data/Test.csv',\n",
    "                    na_values = \":\",\n",
    "                    usecols = [\"Name\", \"Value\", \"Year\"])\n",
    "file[\"Value\"]"
   ],
   "cell_type": "markdown",
   "metadata": {}
  },
  {
   "source": [
    "# Select certain rows\n",
    "import pandas as pd\n",
    "\n",
    "file = pd.read_csv('D:/Code/Exercise-Python/Data/Test.csv',\n",
    "                    na_values = \":\",\n",
    "                    usecols = [\"Name\", \"Value\", \"Year\"])\n",
    "\n",
    "file[10:14]"
   ],
   "cell_type": "markdown",
   "metadata": {}
  },
  {
   "source": [
    "# Select subset of rows and columns\n",
    "import pandas as pd\n",
    "\n",
    "file = pd.read_csv('D:/Code/Exercise-Python/Data/Test.csv',\n",
    "                    na_values = \":\",\n",
    "                    usecols = [\"Name\", \"Value\", \"Year\"])\n",
    "\n",
    "file.loc[14:23, [\"Name\", \"Year\"]]"
   ],
   "cell_type": "markdown",
   "metadata": {}
  }
 ]
}