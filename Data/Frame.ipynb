{
 "cells": [
  {
   "source": [
    "import pandas as pd\n",
    "import numpy as np\n",
    "import matplotlib.pyplot as plt\n",
    "\n",
    "d = {'year': [\n",
    "        2010, 2011, 2012,\n",
    "        2010, 2011, 2012,\n",
    "        2010, 2011, 2012,\n",
    "    ],\n",
    "    'team':[\n",
    "        'Hello', 'Sorry',\n",
    "        'Daisy', 'Old Lady',\n",
    "        'Sunny', 'Windy',\n",
    "        'Hairy', 'Dancy',\n",
    "        'Fancy'\n",
    "    ],\n",
    "       'win': [23,45,65,76,25,12,42,54,76],\n",
    "       'draws': [2,1,3,4,65,23,34,3,2],\n",
    "       'losses': [12, 23, 45,12, 23,54,65,87, 78]\n",
    "    }\n",
    "ball = pd.DataFrame(d, columns=['year', 'team', 'win', 'draws', 'losses'])"
   ],
   "cell_type": "code",
   "metadata": {},
   "execution_count": 12,
   "outputs": []
  }
 ],
 "metadata": {
  "kernelspec": {
   "name": "python3",
   "display_name": "Python 3.9.0 64-bit",
   "metadata": {
    "interpreter": {
     "hash": "2647ea34e536f865ab67ff9ddee7fd78773d956cec0cab53c79b32cd10da5d83"
    }
   }
  },
  "language_info": {
   "codemirror_mode": {
    "name": "ipython",
    "version": 3
   },
   "file_extension": ".py",
   "mimetype": "text/x-python",
   "name": "python",
   "nbconvert_exporter": "python",
   "pygments_lexer": "ipython3",
   "version": "3.9.0-final"
  }
 },
 "nbformat": 4,
 "nbformat_minor": 5
}