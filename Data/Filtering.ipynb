{
 "metadata": {
  "language_info": {
   "codemirror_mode": {
    "name": "ipython",
    "version": 3
   },
   "file_extension": ".py",
   "mimetype": "text/x-python",
   "name": "python",
   "nbconvert_exporter": "python",
   "pygments_lexer": "ipython3",
   "version": "3.9.0-final"
  },
  "orig_nbformat": 2,
  "kernelspec": {
   "name": "python390jvsc74a57bd02647ea34e536f865ab67ff9ddee7fd78773d956cec0cab53c79b32cd10da5d83",
   "display_name": "Python 3.9.0 64-bit"
  },
  "metadata": {
   "interpreter": {
    "hash": "2647ea34e536f865ab67ff9ddee7fd78773d956cec0cab53c79b32cd10da5d83"
   }
  }
 },
 "nbformat": 4,
 "nbformat_minor": 2,
 "cells": [
  {
   "source": [
    "# Filter data\n",
    "import pandas as pd\n",
    "\n",
    "file = pd.read_csv('D:/Code/Exercise-Python/Data/Test.csv',\n",
    "                    na_values = \":\",\n",
    "                    usecols = [\"Name\", \"Value\"])\n",
    "file[file['Value'] > 6900]"
   ],
   "cell_type": "markdown",
   "metadata": {}
  },
  {
   "source": [
    "# Choose last five rows of the filtered data\n",
    "import pandas as pd\n",
    "\n",
    "file = pd.read_csv('D:/Code/Exercise-Python/Data/Test.csv',\n",
    "                    na_values = \":\",\n",
    "                    usecols = [\"Name\", \"Value\"])\n",
    "file[file['Value'] > 6900].tail()"
   ],
   "cell_type": "markdown",
   "metadata": {}
  },
  {
   "cell_type": "code",
   "execution_count": null,
   "metadata": {},
   "outputs": [],
   "source": []
  }
 ]
}